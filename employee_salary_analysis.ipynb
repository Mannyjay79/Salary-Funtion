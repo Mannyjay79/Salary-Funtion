{
 "cells": [
  {
   "cell_type": "markdown",
   "metadata": {},
   "source": [
    "# Module 2 Assignment: Salary Function\n",
    "**Data Source**: [SF Salary Data on Kaggle](https://www.kaggle.com/code/itshorus/sf-salary)"
   ]
  },
  {
   "cell_type": "code",
   "execution_count": null,
   "metadata": {},
   "outputs": [],
   "source": [
    "import pandas as pd\n",
    "import os\n",
    "import zipfile"
   ]
  },
  {
   "cell_type": "code",
   "execution_count": null,
   "metadata": {},
   "outputs": [],
   "source": [
    "# Load the salary data\n",
    "salary_df = pd.read_csv(\"Salaries.csv\")\n",
    "salary_df.head()"
   ]
  },
  {
   "cell_type": "code",
   "execution_count": null,
   "metadata": {},
   "outputs": [],
   "source": [
    "# Get employee details\n",
    "def get_employee_details(name):\n",
    "    try:\n",
    "        employee = salary_df[salary_df['EmployeeName'].str.lower() == name.lower()]\n",
    "        if employee.empty:\n",
    "            return f\"No employee found with name: {name}\"\n",
    "        return employee.to_dict(orient='records')[0]\n",
    "    except Exception as e:\n",
    "        return f\"Error occurred: {str(e)}\""
   ]
  },
  {
   "cell_type": "code",
   "execution_count": null,
   "metadata": {},
   "outputs": [],
   "source": [
    "# Convert to dictionary with duplicates warning\n",
    "try:\n",
    "    salary_dict = salary_df.set_index('EmployeeName').to_dict('index')\n",
    "except ValueError:\n",
    "    print(\"Duplicate EmployeeName found. Use composite key or defaultdict.\")"
   ]
  },
  {
   "cell_type": "code",
   "execution_count": null,
   "metadata": {},
   "outputs": [],
   "source": [
    "# Safe dictionary access\n",
    "def safe_get_employee(name, data_dict):\n",
    "    try:\n",
    "        return data_dict[name]\n",
    "    except KeyError:\n",
    "        return f\"Error: {name} not found.\""
   ]
  },
  {
   "cell_type": "code",
   "execution_count": null,
   "metadata": {},
   "outputs": [],
   "source": [
    "# Export to CSV and zip\n",
    "def export_and_zip_profile(name, folder=\"Employee Profile\", zip_name=\"Employee_Profile.zip\"):\n",
    "    employee_data = get_employee_details(name)\n",
    "    if isinstance(employee_data, dict):\n",
    "        os.makedirs(folder, exist_ok=True)\n",
    "        filename = f\"{name.replace(' ', '_')}_profile.csv\"\n",
    "        filepath = os.path.join(folder, filename)\n",
    "        pd.DataFrame([employee_data]).to_csv(filepath, index=False)\n",
    "        with zipfile.ZipFile(zip_name, 'w') as zipf:\n",
    "            zipf.write(filepath, arcname=os.path.join(folder, filename))\n",
    "        return f\"Exported and zipped to {zip_name}\"\n",
    "    return employee_data"
   ]
  }
 ],
 "metadata": {
  "kernelspec": {
   "display_name": "Python 3",
   "language": "python",
   "name": "python3"
  },
  "language_info": {
   "name": "python"
  }
 },
 "nbformat": 4,
 "nbformat_minor": 2
}